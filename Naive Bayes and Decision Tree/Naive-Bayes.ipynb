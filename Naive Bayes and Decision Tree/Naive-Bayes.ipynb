{
 "cells": [
  {
   "cell_type": "markdown",
   "metadata": {},
   "source": [
    "# COSC174 Naïve Bayes Classifier "
   ]
  },
  {
   "cell_type": "markdown",
   "metadata": {},
   "source": [
    "## Bayes Theorem "
   ]
  },
  {
   "cell_type": "markdown",
   "metadata": {},
   "source": [
    "Naïve Bayes is a simple and widely used probablistic classifier method based on Bayes Theorem with the 'naïve' assumption that each feature are independent with each other. Important applications of Naïve Bayes method include text classification such as spam filtering, translation. We have to understand [Bayes Theorem](https://en.wikipedia.org/wiki/Bayes'_theorem) to understand how does the simple but powerful classifier works. \n",
    "\n",
    "Bayes Theorem is named after the statistician Thomas Bayes and  French mathmatician Laplace contributed largely to Bayesian Probability (). It describes the probability of an event, with your prior knowledge. It also shows the process of how can we adjust our prior objective belief based on the new information and evidence we acquire. The Bayes Rule equation is very succint and elegant. \n",
    "\n",
    "$$ P(A\\mid B)= \\frac{P(B\\mid A) \\times P(A)}{P(B)}$$\n",
    "\n",
    "The equation can be derived from a rather intuitive way that $ P(A\\mid B) \\times P(B) = P(B\\mid A) \\times P(A) = P(A \\cap B)$, as shown in the intersection venn diagram below."
   ]
  },
  {
   "cell_type": "markdown",
   "metadata": {},
   "source": [
    "![Intersection of A and B](img/ab.png)"
   ]
  },
  {
   "cell_type": "markdown",
   "metadata": {},
   "source": [
    "In the equation, $P(A)$ is the prior probability, and $P(B\\mid A) \\times P(A)$ is the likelihood, which can be obtained by simple calculations. $P(B)$ on the denominator can be broken down according to *the Law of Total Probability*. (Thus, the numerator is part of the denominator in this discrete case). \n",
    "\n",
    "$$ P(B) = \\sum _{i=1} ^{N} P(B\\mid A_i) \\times P(A_i)$$"
   ]
  },
  {
   "cell_type": "markdown",
   "metadata": {},
   "source": [
    "![Total Probability](img/totalprobability.png)"
   ]
  },
  {
   "cell_type": "markdown",
   "metadata": {},
   "source": [
    "In many appication cases, \n",
    "\n",
    "$$ P(\\theta \\mid D) = \\frac{P(\\theta)P(D\\mid\\theta)}{\\int P(\\theta)P(D\\mid\\theta)d\\theta}$$\n",
    "\n",
    "Noticing that the denominator is not a function of $\\theta$ (since we are integrating over $\\theta$), the distributin of $\\theta$ conditioned on the observed data D on the left side of the equation as being proportional to the prior times likelihood:\n",
    "\n",
    "$$P(\\theta \\mid D) \\propto P(\\theta)P(D\\mid\\theta) $$\n",
    "\n",
    "which may avoid the computation of the intractable integral on the denominator. \n",
    "\n",
    "\n",
    "###  Example and the intuition behind the Bayes Theorem \n",
    "\n",
    "A basic example of Bayes Theorem is [Drug/Disease testing](https://en.wikipedia.org/wiki/Bayes'_theorem#Drug_testing). The testing accuracy is 99%, Suppose 0.5% of the population are users of the drug, the propablility of a randomly selected individual from the population with a positive test result is much lower than 99% (33%) because of the prior belief we have that such few people are drug users in the population. However, say, you have some symptoms like fever and you go to the doctor to have a disease test. There still exists some prior probability of you are ill but the prior belief of illness should be stronger than that drawn from a randomly selected population. That's how the prior belife (our subjective opinions towards the world) can affect the results. Basically, our prior belief of how possible we are ill are updated by the likelihood function (observed data/the testing result). \n",
    "\n",
    "The concept of probability of [Bayesian Probability](https://en.wikipedia.org/wiki/Bayesian_probability) is so different from [Frenquentist Probability](https://en.wikipedia.org/wiki/Frequentist_probability) which defines probability as the limit of the frequency of events in a large number of trials. The probability in Bayesian Probability is no longer a static frequency but incorporates a state of subjective knowledge and expectation. The two schools of probability have their respective inference methods and the differences are articulated in the [article](https://ocw.mit.edu/courses/mathematics/18-05-introduction-to-probability-and-statistics-spring-2014/readings/MIT18_05S14_Reading20.pdf). \n",
    "\n",
    "\n"
   ]
  },
  {
   "cell_type": "markdown",
   "metadata": {},
   "source": [
    "## Naïve Bayes Classifier\n",
    "\n",
    "Naïve Bayes is a simple and widely used probablistic classifier method based on Bayes Theorem with the *'naïve'* assumption that each feature are independent with each other. Important application of Naïve Bayes is document classification such as spam filtering.\n",
    "\n",
    "We have a training dataset, each object with a set of features ($\\vec{X_n} = x_1,\\dots, x_n$) belongs to a class $C_i \\in \\vec{C}$, we are tring to find in which class belongs the newly given object with a feature vector. The basic thought is to calculate the probability of the new feature vector belonging to each class and we classify the new object as the class with the largest probability. "
   ]
  },
  {
   "cell_type": "markdown",
   "metadata": {},
   "source": [
    "We can use the Bayes theorem to calculate the probability of the object in a particular class given the feature vector $(x_1, \\dots, x_n)$:\n",
    "\n",
    "$$  P(C_i\\mid x_1,\\dots,x_n) = \\frac{P(x_1,\\dots,x_n\\mid C_i) \\times P(C_i)}{P(x_1,\\dots,x_n)} $$\n",
    "\n",
    "Where $P(C_i)$ is the prior probability, which can be calculated by the probability of the particular class in the training data. $P(x_1,\\dots,x_n\\mid C_i)\\times P(C_i)$ is the likelihood function, which provides new information (training process) to update the prior probability. The denominator is a regularization term, which can be ommitted because we only care about the relative probability frequency among classes. \n",
    "\n",
    "The key point is to calculate the likelihood function $P(x_1,\\dots,x_n\\mid C_i)$. Here, considering the 'naïve'  assumption that all features are independent of each other, we can split the likelihood function into the product of the probability of each feature given a certain class: $P(x_1,\\dots,x_n\\mid C_i) = \\prod _{j=1} ^{n} P(x_j \\mid C_i) $. The equation is simplified to \n",
    "\n",
    "$$  P(C_i\\mid x_1,\\dots,x_n) = \\frac{\\prod _{j=1} ^{n} P(x_j \\mid C_i) \\times P(C_i)}{P(x_1,\\dots,x_n)} $$"
   ]
  },
  {
   "cell_type": "markdown",
   "metadata": {},
   "source": [
    "### The probelm of Zero and Gaussian NB\n",
    "\n",
    "How do we calculate the simplified likelihood function in the form of products of independent probabilities? The easiest way is counting and calculating the ratio but this may incur the problem of '0'. In the traning dataset, it is possible that  no exact feature data point exists in the training set, which may cause the numerator straight down to 0. \n",
    "\n",
    "Different flavors of NB methods are proposed, including Gaussian NB and Multinomial NB to calculate the likelihood function based on different assumption of distribution. For instance, Gaussian NB assume the likelihood of a feature is a normal distribution:\n",
    "\n",
    "$$P(x_i \\mid c) = \\frac{1}{\\sqrt{2\\pi\\sigma^2_c}} \\exp\\left(-\\frac{(x_i - \\mu_c)^2}{2\\sigma^2_c}\\right)$$\n",
    "\n",
    "The parameters $\\sigma_c$ and $\\mu_c$ can be estimated by maximum likelihood."
   ]
  },
  {
   "cell_type": "markdown",
   "metadata": {},
   "source": [
    "## The Application of NB Classifier\n",
    "We are given the training and testing simulation data in CSV format.\n",
    "\n",
    "We would use the [Naive Bayes methods]('https://scikit-learn.org/stable/modules/generated/sklearn.naive_bayes.GaussianNB.html') provided by the scikit-learn library. Different flavors of NB classifiers and feature combinations are tried to find the maximum accuracy of the predictor."
   ]
  },
  {
   "cell_type": "code",
   "execution_count": 1,
   "metadata": {},
   "outputs": [],
   "source": [
    "# import the required packages\n",
    "import pandas as pd\n",
    "import numpy as np\n",
    "import matplotlib.pyplot as plt\n",
    "from sklearn.naive_bayes import GaussianNB\n",
    "from sklearn.decomposition import PCA\n",
    "from sklearn.model_selection import cross_val_score\n",
    "from sklearn import preprocessing\n",
    "from sklearn.metrics import confusion_matrix\n",
    "from sklearn.preprocessing import PowerTransformer"
   ]
  },
  {
   "cell_type": "markdown",
   "metadata": {},
   "source": [
    "To start with, we can have a glimpse of the simulated training dataset. It is always good to know how many rows (*samples*) and *features* are there in the dataset and are there any missing values in the dataset to decide what data preprocessing techniques we should take before training the model. "
   ]
  },
  {
   "cell_type": "code",
   "execution_count": 2,
   "metadata": {
    "scrolled": false
   },
   "outputs": [
    {
     "name": "stdout",
     "output_type": "stream",
     "text": [
      "The number of rows in the training dataset is 5600.\n"
     ]
    },
    {
     "data": {
      "text/html": [
       "<div>\n",
       "<style scoped>\n",
       "    .dataframe tbody tr th:only-of-type {\n",
       "        vertical-align: middle;\n",
       "    }\n",
       "\n",
       "    .dataframe tbody tr th {\n",
       "        vertical-align: top;\n",
       "    }\n",
       "\n",
       "    .dataframe thead th {\n",
       "        text-align: right;\n",
       "    }\n",
       "</style>\n",
       "<table border=\"1\" class=\"dataframe\">\n",
       "  <thead>\n",
       "    <tr style=\"text-align: right;\">\n",
       "      <th></th>\n",
       "      <th>Feature_1</th>\n",
       "      <th>Feature_2</th>\n",
       "      <th>Feature_3</th>\n",
       "      <th>Feature_4</th>\n",
       "      <th>Feature_5</th>\n",
       "      <th>Feature_6</th>\n",
       "      <th>Label</th>\n",
       "    </tr>\n",
       "  </thead>\n",
       "  <tbody>\n",
       "    <tr>\n",
       "      <th>0</th>\n",
       "      <td>7430.14</td>\n",
       "      <td>9529.78</td>\n",
       "      <td>-2453.33</td>\n",
       "      <td>19</td>\n",
       "      <td>123</td>\n",
       "      <td>621</td>\n",
       "      <td>0</td>\n",
       "    </tr>\n",
       "    <tr>\n",
       "      <th>1</th>\n",
       "      <td>11256.40</td>\n",
       "      <td>50455.10</td>\n",
       "      <td>-4220.00</td>\n",
       "      <td>18</td>\n",
       "      <td>216</td>\n",
       "      <td>2677</td>\n",
       "      <td>0</td>\n",
       "    </tr>\n",
       "    <tr>\n",
       "      <th>2</th>\n",
       "      <td>13093.00</td>\n",
       "      <td>51897.10</td>\n",
       "      <td>-2880.00</td>\n",
       "      <td>30</td>\n",
       "      <td>234</td>\n",
       "      <td>2464</td>\n",
       "      <td>0</td>\n",
       "    </tr>\n",
       "    <tr>\n",
       "      <th>3</th>\n",
       "      <td>14303.00</td>\n",
       "      <td>102632.00</td>\n",
       "      <td>-5702.20</td>\n",
       "      <td>144</td>\n",
       "      <td>281</td>\n",
       "      <td>4061</td>\n",
       "      <td>1</td>\n",
       "    </tr>\n",
       "    <tr>\n",
       "      <th>4</th>\n",
       "      <td>14688.00</td>\n",
       "      <td>83343.40</td>\n",
       "      <td>-2430.00</td>\n",
       "      <td>52</td>\n",
       "      <td>223</td>\n",
       "      <td>2822</td>\n",
       "      <td>1</td>\n",
       "    </tr>\n",
       "  </tbody>\n",
       "</table>\n",
       "</div>"
      ],
      "text/plain": [
       "   Feature_1  Feature_2  Feature_3  Feature_4  Feature_5  Feature_6  Label\n",
       "0    7430.14    9529.78   -2453.33         19        123        621      0\n",
       "1   11256.40   50455.10   -4220.00         18        216       2677      0\n",
       "2   13093.00   51897.10   -2880.00         30        234       2464      0\n",
       "3   14303.00  102632.00   -5702.20        144        281       4061      1\n",
       "4   14688.00   83343.40   -2430.00         52        223       2822      1"
      ]
     },
     "execution_count": 2,
     "metadata": {},
     "output_type": "execute_result"
    }
   ],
   "source": [
    "#read the training data into DataFrame and inspect the dataset \n",
    "trainingfile = 'trainingset.csv'\n",
    "train_data = pd.read_csv(trainingfile)\n",
    "print('The number of rows in the training dataset is %d.'%(len(train_data)))\n",
    "train_data.head()"
   ]
  },
  {
   "cell_type": "markdown",
   "metadata": {},
   "source": [
    "After inspecting the dataset, we find the training dataset has 5,600 rows:\n",
    "- Column 1-6 are independent variables (IVs), representing 6 possible features. \n",
    "- The last column is dependent variable (DV), representing the binary lables (0 or 1)\n",
    "\n",
    "The size of the dataset is large enough to train a Naive Bayes model. Also, we are supposed to seperate the label column from feature columns to fit the model. "
   ]
  },
  {
   "cell_type": "code",
   "execution_count": 3,
   "metadata": {},
   "outputs": [
    {
     "name": "stdout",
     "output_type": "stream",
     "text": [
      "The percentage of 0 label in the training dataset is 0.58\n"
     ]
    }
   ],
   "source": [
    "#create a mask list to check which rows have label 0 \n",
    "zero = [i for i in train_data['Label'] == 0]\n",
    "print('The percentage of label 0 in the training dataset is {:0.2f}'.format(sum(zero)/len(train_data)))"
   ]
  },
  {
   "cell_type": "markdown",
   "metadata": {},
   "source": [
    "There are a little bit more 0 than 1 in the training dataset, which is a fairly balanced training dataset. If we are faced with a very unbalanced training dataset, we will need to select the accuracy metric very carefully to reflect the real predictive ability of the model. We will talk about measuring the accuracy with confusion matrix later. Also, we may need to use resampling techniques to deal with very unbalanced dataset. "
   ]
  },
  {
   "cell_type": "markdown",
   "metadata": {},
   "source": [
    "### EDA and Feature Engineering"
   ]
  },
  {
   "cell_type": "markdown",
   "metadata": {},
   "source": [
    "As we have discussed earlier, one of the most assumptions of Naive-Bayes classifier is that the distribution of features is **normal distribution** (that's why it's called naive because nothing is really strictly normal distributed in the real world). The accuracy of our model highly depends on the distribution of features. There are several ways to check the assumption of normality including statistical hypothesis testing, but the easiest way is to plot the features out!"
   ]
  },
  {
   "cell_type": "code",
   "execution_count": 4,
   "metadata": {},
   "outputs": [],
   "source": [
    "#First, we should seperate the feature and label columns\n",
    "features = train_data.drop(labels = ['Label'],axis=1)\n",
    "label = train_data['Label']"
   ]
  },
  {
   "cell_type": "code",
   "execution_count": 5,
   "metadata": {},
   "outputs": [
    {
     "data": {
      "image/png": "[encoded data removed]",
      "text/plain": [
       "<Figure size 432x288 with 1 Axes>"
      ]
     },
     "metadata": {
      "needs_background": "light"
     },
     "output_type": "display_data"
    },
    {
     "data": {
      "image/png": "[encoded data removed]",
      "text/plain": [
       "<Figure size 432x288 with 1 Axes>"
      ]
     },
     "metadata": {
      "needs_background": "light"
     },
     "output_type": "display_data"
    },
    {
     "data": {
      "image/png": "[encoded data removed]",
      "text/plain": [
       "<Figure size 432x288 with 1 Axes>"
      ]
     },
     "metadata": {
      "needs_background": "light"
     },
     "output_type": "display_data"
    },
    {
     "data": {
      "image/png": "[encoded data removed]",
      "text/plain": [
       "<Figure size 432x288 with 1 Axes>"
      ]
     },
     "metadata": {
      "needs_background": "light"
     },
     "output_type": "display_data"
    },
    {
     "data": {
      "image/png": "[encoded data removed]",
      "text/plain": [
       "<Figure size 432x288 with 1 Axes>"
      ]
     },
     "metadata": {
      "needs_background": "light"
     },
     "output_type": "display_data"
    },
    {
     "data": {
      "image/png": "[encoded data removed]",
      "text/plain": [
       "<Figure size 432x288 with 1 Axes>"
      ]
     },
     "metadata": {
      "needs_background": "light"
     },
     "output_type": "display_data"
    }
   ],
   "source": [
    "for i in range(6):\n",
    "    featureplt = features.iloc[:,i]\n",
    "    plt.figure()\n",
    "    plt.hist(featureplt,bins=100)\n",
    "    title = 'The distribution of feature ' + str(i)\n",
    "    plt.title(label = title )"
   ]
  },
  {
   "cell_type": "markdown",
   "metadata": {},
   "source": [
    "As we can see from the plots, the distributions of 6 features are not normal. Most of them seem to be ditributed log-normally. To increase the accuracy of our Naive Bayes Model, we need to preprocess the feature, favorably transform them into normally distributed variables. Luckily, sklearn provides such module [PowerTransformer] (https://scikit-learn.org/stable/modules/generated/sklearn.preprocessing.PowerTransformer.html) to make data more Gaussian-like. Note that: box-cox can only transform strictly positive data and the default setting of the PowerTransformer can deal with negative values. "
   ]
  },
  {
   "cell_type": "code",
   "execution_count": 13,
   "metadata": {},
   "outputs": [],
   "source": [
    "from sklearn.preprocessing import PowerTransformer\n",
    "#generate and fit the transformer\n",
    "pt = PowerTransformer()\n",
    "pt.fit(features)\n",
    "#transform the features, the returned datatype is ndarray rather than a data frame \n",
    "feature_transformed = pt.transform(features)"
   ]
  },
  {
   "cell_type": "markdown",
   "metadata": {},
   "source": [
    "Now, we can plot out the distribution of our features a"
   ]
  },
  {
   "cell_type": "code",
   "execution_count": 16,
   "metadata": {
    "scrolled": true
   },
   "outputs": [
    {
     "data": {
      "image/png": "[encoded data removed]",
      "text/plain": [
       "<Figure size 432x288 with 1 Axes>"
      ]
     },
     "metadata": {
      "needs_background": "light"
     },
     "output_type": "display_data"
    },
    {
     "data": {
      "image/png": "[encoded data removed]",
      "text/plain": [
       "<Figure size 432x288 with 1 Axes>"
      ]
     },
     "metadata": {
      "needs_background": "light"
     },
     "output_type": "display_data"
    },
    {
     "data": {
      "image/png": "[encoded data removed]",
      "text/plain": [
       "<Figure size 432x288 with 1 Axes>"
      ]
     },
     "metadata": {
      "needs_background": "light"
     },
     "output_type": "display_data"
    },
    {
     "data": {
      "image/png": "[encoded data removed]",
      "text/plain": [
       "<Figure size 432x288 with 1 Axes>"
      ]
     },
     "metadata": {
      "needs_background": "light"
     },
     "output_type": "display_data"
    },
    {
     "data": {
      "image/png": "[encoded data removed]",
      "text/plain": [
       "<Figure size 432x288 with 1 Axes>"
      ]
     },
     "metadata": {
      "needs_background": "light"
     },
     "output_type": "display_data"
    },
    {
     "data": {
      "image/png": "[encoded data removed]",
      "text/plain": [
       "<Figure size 432x288 with 1 Axes>"
      ]
     },
     "metadata": {
      "needs_background": "light"
     },
     "output_type": "display_data"
    }
   ],
   "source": [
    "for i in range(6):\n",
    "    featureplt = feature_transformed[:,i]\n",
    "    plt.figure()\n",
    "    plt.hist(featureplt,bins=50)\n",
    "    title = 'The distribution of feature ' + str(i)\n",
    "    plt.title(label = title )"
   ]
  },
  {
   "cell_type": "markdown",
   "metadata": {},
   "source": [
    "Our features seem to be more normally distributed now. We can also use [shapiro-wilk test] (https://en.wikipedia.org/wiki/Shapiro–Wilk_test#Interpretation) to check the normality. The null-hypothesis of this test is that the population is normally distributed. "
   ]
  },
  {
   "cell_type": "code",
   "execution_count": 24,
   "metadata": {},
   "outputs": [
    {
     "data": {
      "text/plain": [
       "array([-0.71639528,  0.30215489,  0.32128505, ...,  1.38757612,\n",
       "       -0.26660876, -0.57821246])"
      ]
     },
     "execution_count": 24,
     "metadata": {},
     "output_type": "execute_result"
    }
   ],
   "source": [
    "feature_transformed[:,1]"
   ]
  },
  {
   "cell_type": "code",
   "execution_count": 28,
   "metadata": {},
   "outputs": [
    {
     "name": "stdout",
     "output_type": "stream",
     "text": [
      "The stat, p-vale of feature0 is 0.996,0.00\n",
      "The stat, p-vale of feature1 is 0.991,0.00\n",
      "The stat, p-vale of feature2 is 0.307,0.00\n",
      "The stat, p-vale of feature3 is 0.998,0.00\n",
      "The stat, p-vale of feature4 is 0.995,0.00\n",
      "The stat, p-vale of feature5 is 0.991,0.00\n"
     ]
    }
   ],
   "source": [
    "#import the shapiro module  to validate the normal distribution\n",
    "from scipy.stats import shapiro\n",
    "for i in range(6):\n",
    "    stat, p = shapiro(feature_transformed[:,i])\n",
    "    print('The stat, p-vale of feature{} is {:0.3f},{:0.2f}'.format(i,stat,p))"
   ]
  },
  {
   "cell_type": "markdown",
   "metadata": {},
   "source": [
    "The p value is very low so that we cannot reject the null hypothesis, the features are now normal enough. We can train the Naive Bayes classifier with the processed training data now.\n",
    "We use 10-fold cross validation to evaluate the accuracy of the simplest NB estimator. We use f1 score as the accuracy metric considering the unbalanced dataset. \"[The F1 score](https://scikit-learn.org/stable/modules/generated/sklearn.metrics.f1_score.html) can be interpreted as a weighted average of the precision and recall, where an F1 score reaches its best value at 1 and worst score at 0.\""
   ]
  },
  {
   "cell_type": "code",
   "execution_count": 33,
   "metadata": {},
   "outputs": [
    {
     "name": "stdout",
     "output_type": "stream",
     "text": [
      "before gaussian: 31.99%, after gaussian: 35.58%, increase by 11.22%\n"
     ]
    }
   ],
   "source": [
    "# initialize a NB classifier\n",
    "clf = GaussianNB()\n",
    "c1 = np.average(cross_val_score(clf, feature_transformed, label,scoring= 'f1', cv = 10))\n",
    "c2 = np.average(cross_val_score(clf, features, label,scoring= 'f1',cv = 10))\n",
    "ratio = (c1-c2)/c2\n",
    "print('before gaussian: {:0.2%}, after gaussian: {:0.2%}, increase by {:0.2%}'.format(c2,c1,ratio))\n"
   ]
  },
  {
   "cell_type": "markdown",
   "metadata": {},
   "source": [
    "The guassian transformation has increased the prediction accuracy significantly  by 11.22% but the accuracy is still very low. Since Naive Bayes is a very easy ML algorithm and it almost does not have any other hyper-parameters to fine tune, we have to conduct more feature engineering. One important assumption of NB algorithm is **all features are distributed independently** That's why we can use the calculation $P(x_1,\\dots,x_n\\mid C_i) = \\prod _{j=1} ^{n} P(x_j \\mid C_i) $. So one way is to optimize NB classifier by feature engineering is to find which combinations of features can predict better.  "
   ]
  },
  {
   "cell_type": "markdown",
   "metadata": {},
   "source": [
    "First, let's take a look at whether these 6 features are indepent with each other. "
   ]
  },
  {
   "cell_type": "code",
   "execution_count": 43,
   "metadata": {},
   "outputs": [
    {
     "data": {
      "image/png": "[encoded data removed]",
      "text/plain": [
       "<Figure size 432x288 with 2 Axes>"
      ]
     },
     "metadata": {
      "needs_background": "light"
     },
     "output_type": "display_data"
    }
   ],
   "source": [
    "import seaborn as sns\n",
    "corr = features.corr()\n",
    "ax = sns.heatmap(\n",
    "    corr, \n",
    "    vmin=-1, vmax=1, center=0,\n",
    "    square=True\n",
    ")"
   ]
  },
  {
   "cell_type": "markdown",
   "metadata": {},
   "source": [
    "As we can see from the confusion matrix. Some of the variables are actually highly correlated like feature 1 and 6, feature 2 and 5. The easies way is to traverse all the feature combinations and select the best-performed one. The method is not scalable apparently but lucikly the NB classifier mostly works out with several features. "
   ]
  },
  {
   "cell_type": "code",
   "execution_count": 44,
   "metadata": {},
   "outputs": [],
   "source": [
    "#the function returns a list of all the combination of indexes\n",
    "def powerset(s):\n",
    "    x = len(s)\n",
    "    masks = [1 << i for i in range(x)]\n",
    "    for i in range(1 << x):\n",
    "        yield [ss for mask, ss in zip(masks, s) if i & mask]"
   ]
  },
  {
   "cell_type": "code",
   "execution_count": 48,
   "metadata": {},
   "outputs": [
    {
     "name": "stdout",
     "output_type": "stream",
     "text": [
      "[[0], [1], [0, 1], [2], [0, 2], [1, 2], [0, 1, 2], [3], [0, 3], [1, 3], [0, 1, 3], [2, 3], [0, 2, 3], [1, 2, 3], [0, 1, 2, 3], [4], [0, 4], [1, 4], [0, 1, 4], [2, 4], [0, 2, 4], [1, 2, 4], [0, 1, 2, 4], [3, 4], [0, 3, 4], [1, 3, 4], [0, 1, 3, 4], [2, 3, 4], [0, 2, 3, 4], [1, 2, 3, 4], [0, 1, 2, 3, 4], [5], [0, 5], [1, 5], [0, 1, 5], [2, 5], [0, 2, 5], [1, 2, 5], [0, 1, 2, 5], [3, 5], [0, 3, 5], [1, 3, 5], [0, 1, 3, 5], [2, 3, 5], [0, 2, 3, 5], [1, 2, 3, 5], [0, 1, 2, 3, 5], [4, 5], [0, 4, 5], [1, 4, 5], [0, 1, 4, 5], [2, 4, 5], [0, 2, 4, 5], [1, 2, 4, 5], [0, 1, 2, 4, 5], [3, 4, 5], [0, 3, 4, 5], [1, 3, 4, 5], [0, 1, 3, 4, 5], [2, 3, 4, 5], [0, 2, 3, 4, 5], [1, 2, 3, 4, 5], [0, 1, 2, 3, 4, 5]]\n"
     ]
    }
   ],
   "source": [
    "#generate all possible selected features \n",
    "mask = [0,1,2,3,4,5]\n",
    "combinations = list(powerset(mask))[1:]\n",
    "print(combinations)"
   ]
  },
  {
   "cell_type": "code",
   "execution_count": 78,
   "metadata": {},
   "outputs": [
    {
     "name": "stdout",
     "output_type": "stream",
     "text": [
      "The best f1 score is 0.43, the best accuracy is 0.61 \n",
      "The best combination with f1_score is [0, 1, 4, 5], the best combination with accuracy is [1, 3, 4]\n"
     ]
    }
   ],
   "source": [
    "f1_scores = []\n",
    "accuracy_scores = []\n",
    "for combination in combinations:\n",
    "    feature = feature_transformed[:, combination]\n",
    "    clf = GaussianNB()\n",
    "    accuracy = np.average(cross_val_score(clf, feature, label, cv = 10))\n",
    "    f1_score = np.average(cross_val_score(clf, feature, label, scoring = 'f1', cv = 10))\n",
    "    f1_scores.append(f1_score)\n",
    "    accuracy_scores.append(accuracy)\n",
    "    \n",
    "f1_score_best = max(f1_scores)\n",
    "accuracy_score_best = max(accuracy_scores)\n",
    "print('The best f1 score is {:0.2f}, the best accuracy is {:0.2f} '.format(f1_score_best,accuracy_score_best))\n",
    "\n",
    "f1_selection = combinations[f1_scores.index(f1_score_best)]\n",
    "accuracy_selection = combinations[accuracy_scores.index(accuracy_score_best)]\n",
    "print('The best combination with f1_score is {}, the best combination with accuracy is {}'.format(f1_selection,accuracy_selection))\n",
    "\n",
    "cor_f1 = np.corrcoef(feature_transformed[:,f1_selection])\n",
    "cor_accuracy = np.corrcoef(feature_transformed[:,accuracy_selection])\n"
   ]
  },
  {
   "cell_type": "markdown",
   "metadata": {},
   "source": [
    "As we can see, the choice of metrics matters when it comes to select the features and train our model. Our example dataset does not have any actual meaning but in the real world, we could use the domain knowledge to decide whether the feature selection makes sense."
   ]
  },
  {
   "cell_type": "markdown",
   "metadata": {},
   "source": [
    "Finally, we can write the function to package the code into training process and predict process"
   ]
  },
  {
   "cell_type": "code",
   "execution_count": 96,
   "metadata": {},
   "outputs": [],
   "source": [
    "def train(filename):\n",
    "    \"\"\"\n",
    "    Input: the filename path string \n",
    "    Return: the best NB classifier after feature selection based on 10-fold cross validation accuracy \n",
    "    Gaussian transformation of all features included\n",
    "    \"\"\"\n",
    "    train_data = pd.read_csv(filename)\n",
    "    features = train_data.drop(labels = ['Label'],axis=1)\n",
    "    label = train_data['Label']\n",
    "    #gaussian the features \n",
    "    pt = PowerTransformer()\n",
    "    pt.fit(features)\n",
    "    feature_transformed = pt.transform(features)\n",
    "    \n",
    "    mask = [0,1,2,3,4,5]\n",
    "    mask = list(powerset(mask))[1:]                              \n",
    "    scores = []\n",
    "    for i in mask:\n",
    "        feature = feature_transformed[:, i]\n",
    "        clf = GaussianNB()\n",
    "        score = np.average(cross_val_score(clf, feature, label, cv = 10))\n",
    "        scores.append(score)\n",
    "    \n",
    "    maxscore = max(scores) \n",
    "    selection = mask[scores.index(maxscore)]\n",
    "    feature_select = feature_transformed[:,selection]\n",
    "    nb = GaussianNB()\n",
    "    nb.fit(feature_select,label)\n",
    "    \n",
    "    print('10-fold CV accuracy scores are {} \\n The average CV score of the NB classifier is {:0.2%}'.format(cross_val_score(nb, feature_select, label, cv = 10),np.average(cross_val_score(nb, feature_select, label, cv = 10))))\n",
    "    return nb"
   ]
  },
  {
   "cell_type": "code",
   "execution_count": 97,
   "metadata": {
    "scrolled": false
   },
   "outputs": [
    {
     "name": "stdout",
     "output_type": "stream",
     "text": [
      "10-fold CV accuracy scores are [0.61428571 0.61428571 0.625      0.57321429 0.61964286 0.58392857\n",
      " 0.62142857 0.61428571 0.58214286 0.63392857] \n",
      " The average CV score of the NB classifier is 60.82%\n"
     ]
    }
   ],
   "source": [
    "clf = train('NBtrainingset.csv')"
   ]
  },
  {
   "cell_type": "code",
   "execution_count": null,
   "metadata": {},
   "outputs": [],
   "source": [
    "def predict(C, row):\n",
    "    \"\"\"\n",
    "    Input: NB Classifier and \n",
    "    Return: Predicted label\n",
    "    \"\"\"\n",
    "    clf = C\n",
    "    feature = np.array(row).reshape(1,-1)\n",
    "    label_pred = clf.predict(row)\n",
    "    return label_pred"
   ]
  },
  {
   "cell_type": "code",
   "execution_count": null,
   "metadata": {},
   "outputs": [],
   "source": [
    "df_test = pd.read_csv('hw1_testset.csv')\n",
    "n = len(df_test)\n",
    "feature_test = np.array(df_test.loc[:len(df_test),:'Feature_6'])\n",
    "pt = PowerTransformer()\n",
    "pt.fit(feature_test)\n",
    "feature_test = pt.transform(feature_test)\n",
    "print (feature_test.shape)\n"
   ]
  },
  {
   "cell_type": "code",
   "execution_count": null,
   "metadata": {},
   "outputs": [],
   "source": [
    "label_predict = []\n",
    "for i in range(n):\n",
    "    fea = feature_test[i][[1,3,4]].reshape(1,-1)\n",
    "    label_single = predict(nbclf, fea)[0]\n",
    "    label_predict.append(label_single)\n",
    "df_test['Label'] = label_predict\n",
    "export_csv = df_test.to_csv ('prediction.csv', index = None, header=True)"
   ]
  },
  {
   "cell_type": "code",
   "execution_count": null,
   "metadata": {
    "scrolled": true
   },
   "outputs": [],
   "source": [
    "#Train-test split and confustion matrix \n",
    "from sklearn.model_selection import train_test_split\n",
    "features_train, features_test, label_train, label_test = train_test_split(feature_transformed[:,[2,3,4]],label,test_size =0.9, random_state = 42)\n",
    "print('The shape of features_train: {}, features_test: {}'.format(np.shape(features_train),np.shape(features_test)))\n",
    "label_predict = nbclf.predict(features_test)\n",
    "confusion_matrix(label_test, label_predict)\n",
    "from sklearn.metrics import accuracy_score\n",
    "print(accuracy_score(label_predict,label_test))\n",
    "#print(confusion_matrix)"
   ]
  }
 ],
 "metadata": {
  "kernelspec": {
   "display_name": "Python 3",
   "language": "python",
   "name": "python3"
  },
  "language_info": {
   "codemirror_mode": {
    "name": "ipython",
    "version": 3
   },
   "file_extension": ".py",
   "mimetype": "text/x-python",
   "name": "python",
   "nbconvert_exporter": "python",
   "pygments_lexer": "ipython3",
   "version": "3.6.8"
  }
 },
 "nbformat": 4,
 "nbformat_minor": 2
}
